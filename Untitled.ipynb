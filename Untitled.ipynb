{
 "cells": [
  {
   "cell_type": "markdown",
   "id": "9c6932e4",
   "metadata": {},
   "source": [
    "# My Jupyter Notebook on IBM Watson Studio"
   ]
  },
  {
   "cell_type": "markdown",
   "id": "25677913",
   "metadata": {},
   "source": [
    "__MANIKYA DWIVEDI\n",
    "Student"
   ]
  },
  {
   "cell_type": "markdown",
   "id": "9440a3be",
   "metadata": {},
   "source": [
    "_I am interested in data science because it is the way of the future and has many application sin the field of engineering."
   ]
  },
  {
   "cell_type": "markdown",
   "id": "2c285850",
   "metadata": {},
   "source": [
    "### My code which is written in the next line prints a fibonacci sequence having the amount of numbers = 50\n"
   ]
  },
  {
   "cell_type": "code",
   "execution_count": 1,
   "id": "b3c0b838",
   "metadata": {},
   "outputs": [
    {
     "name": "stdout",
     "output_type": "stream",
     "text": [
      "1\n",
      "1\n",
      "2\n",
      "3\n",
      "5\n",
      "8\n",
      "13\n",
      "21\n",
      "34\n",
      "55\n",
      "89\n",
      "144\n",
      "233\n",
      "377\n",
      "610\n",
      "987\n",
      "1597\n",
      "2584\n",
      "4181\n",
      "6765\n",
      "10946\n",
      "17711\n",
      "28657\n",
      "46368\n",
      "75025\n",
      "121393\n",
      "196418\n",
      "317811\n",
      "514229\n",
      "832040\n",
      "1346269\n",
      "2178309\n",
      "3524578\n",
      "5702887\n",
      "9227465\n",
      "14930352\n",
      "24157817\n",
      "39088169\n",
      "63245986\n",
      "102334155\n",
      "165580141\n",
      "267914296\n",
      "433494437\n",
      "701408733\n",
      "1134903170\n",
      "1836311903\n",
      "2971215073\n",
      "4807526976\n",
      "7778742049\n",
      "12586269025\n",
      "20365011074\n",
      "32951280099\n",
      "53316291173\n"
     ]
    }
   ],
   "source": [
    "a = 1\n",
    "b = 1\n",
    "print(a)\n",
    "print(b)\n",
    "c = a + b\n",
    "for i in range(51):\n",
    "    c = a + b\n",
    "    a = b\n",
    "    b = c\n",
    "    print(c)"
   ]
  },
  {
   "cell_type": "markdown",
   "id": "23b54069",
   "metadata": {},
   "source": [
    "This will include\n",
    "1) Horizontal rule\n",
    "2) number list\n",
    "3) bullet list\n",
    "\n",
    "---------------------------------------------------------------------------------------------------------------------------\n",
    "- Here's a bullet list\n",
    "- second bullet\n",
    "- third bullet\n",
    "- fourth bullet\n"
   ]
  }
 ],
 "metadata": {
  "kernelspec": {
   "display_name": "Python 3 (ipykernel)",
   "language": "python",
   "name": "python3"
  },
  "language_info": {
   "codemirror_mode": {
    "name": "ipython",
    "version": 3
   },
   "file_extension": ".py",
   "mimetype": "text/x-python",
   "name": "python",
   "nbconvert_exporter": "python",
   "pygments_lexer": "ipython3",
   "version": "3.9.13"
  }
 },
 "nbformat": 4,
 "nbformat_minor": 5
}
